{
  "cells": [
    {
      "cell_type": "markdown",
      "metadata": {
        "id": "UGPZcx-PzKgw"
      },
      "source": [
        "## Preprocessing"
      ]
    },
    {
      "cell_type": "code",
      "execution_count": 1,
      "metadata": {
        "id": "vJN1iL4NzKgy",
        "outputId": "fb86a0bd-e6a7-449a-a55e-86fde04c5fe4",
        "colab": {
          "base_uri": "https://localhost:8080/",
          "height": 397
        }
      },
      "outputs": [
        {
          "output_type": "execute_result",
          "data": {
            "text/plain": [
              "        EIN                                      NAME APPLICATION_TYPE  \\\n",
              "0  10520599              BLUE KNIGHTS MOTORCYCLE CLUB              T10   \n",
              "1  10531628    AMERICAN CHESAPEAKE CLUB CHARITABLE TR               T3   \n",
              "2  10547893        ST CLOUD PROFESSIONAL FIREFIGHTERS               T5   \n",
              "3  10553066            SOUTHSIDE ATHLETIC ASSOCIATION               T3   \n",
              "4  10556103  GENETIC RESEARCH INSTITUTE OF THE DESERT               T3   \n",
              "\n",
              "        AFFILIATION CLASSIFICATION      USE_CASE  ORGANIZATION  STATUS  \\\n",
              "0       Independent          C1000    ProductDev   Association       1   \n",
              "1       Independent          C2000  Preservation  Co-operative       1   \n",
              "2  CompanySponsored          C3000    ProductDev   Association       1   \n",
              "3  CompanySponsored          C2000  Preservation         Trust       1   \n",
              "4       Independent          C1000     Heathcare         Trust       1   \n",
              "\n",
              "      INCOME_AMT SPECIAL_CONSIDERATIONS  ASK_AMT  IS_SUCCESSFUL  \n",
              "0              0                      N     5000              1  \n",
              "1         1-9999                      N   108590              1  \n",
              "2              0                      N     5000              0  \n",
              "3    10000-24999                      N     6692              1  \n",
              "4  100000-499999                      N   142590              1  "
            ],
            "text/html": [
              "\n",
              "  <div id=\"df-d4494b9a-cc8f-45ed-af01-0a9aad83a605\" class=\"colab-df-container\">\n",
              "    <div>\n",
              "<style scoped>\n",
              "    .dataframe tbody tr th:only-of-type {\n",
              "        vertical-align: middle;\n",
              "    }\n",
              "\n",
              "    .dataframe tbody tr th {\n",
              "        vertical-align: top;\n",
              "    }\n",
              "\n",
              "    .dataframe thead th {\n",
              "        text-align: right;\n",
              "    }\n",
              "</style>\n",
              "<table border=\"1\" class=\"dataframe\">\n",
              "  <thead>\n",
              "    <tr style=\"text-align: right;\">\n",
              "      <th></th>\n",
              "      <th>EIN</th>\n",
              "      <th>NAME</th>\n",
              "      <th>APPLICATION_TYPE</th>\n",
              "      <th>AFFILIATION</th>\n",
              "      <th>CLASSIFICATION</th>\n",
              "      <th>USE_CASE</th>\n",
              "      <th>ORGANIZATION</th>\n",
              "      <th>STATUS</th>\n",
              "      <th>INCOME_AMT</th>\n",
              "      <th>SPECIAL_CONSIDERATIONS</th>\n",
              "      <th>ASK_AMT</th>\n",
              "      <th>IS_SUCCESSFUL</th>\n",
              "    </tr>\n",
              "  </thead>\n",
              "  <tbody>\n",
              "    <tr>\n",
              "      <th>0</th>\n",
              "      <td>10520599</td>\n",
              "      <td>BLUE KNIGHTS MOTORCYCLE CLUB</td>\n",
              "      <td>T10</td>\n",
              "      <td>Independent</td>\n",
              "      <td>C1000</td>\n",
              "      <td>ProductDev</td>\n",
              "      <td>Association</td>\n",
              "      <td>1</td>\n",
              "      <td>0</td>\n",
              "      <td>N</td>\n",
              "      <td>5000</td>\n",
              "      <td>1</td>\n",
              "    </tr>\n",
              "    <tr>\n",
              "      <th>1</th>\n",
              "      <td>10531628</td>\n",
              "      <td>AMERICAN CHESAPEAKE CLUB CHARITABLE TR</td>\n",
              "      <td>T3</td>\n",
              "      <td>Independent</td>\n",
              "      <td>C2000</td>\n",
              "      <td>Preservation</td>\n",
              "      <td>Co-operative</td>\n",
              "      <td>1</td>\n",
              "      <td>1-9999</td>\n",
              "      <td>N</td>\n",
              "      <td>108590</td>\n",
              "      <td>1</td>\n",
              "    </tr>\n",
              "    <tr>\n",
              "      <th>2</th>\n",
              "      <td>10547893</td>\n",
              "      <td>ST CLOUD PROFESSIONAL FIREFIGHTERS</td>\n",
              "      <td>T5</td>\n",
              "      <td>CompanySponsored</td>\n",
              "      <td>C3000</td>\n",
              "      <td>ProductDev</td>\n",
              "      <td>Association</td>\n",
              "      <td>1</td>\n",
              "      <td>0</td>\n",
              "      <td>N</td>\n",
              "      <td>5000</td>\n",
              "      <td>0</td>\n",
              "    </tr>\n",
              "    <tr>\n",
              "      <th>3</th>\n",
              "      <td>10553066</td>\n",
              "      <td>SOUTHSIDE ATHLETIC ASSOCIATION</td>\n",
              "      <td>T3</td>\n",
              "      <td>CompanySponsored</td>\n",
              "      <td>C2000</td>\n",
              "      <td>Preservation</td>\n",
              "      <td>Trust</td>\n",
              "      <td>1</td>\n",
              "      <td>10000-24999</td>\n",
              "      <td>N</td>\n",
              "      <td>6692</td>\n",
              "      <td>1</td>\n",
              "    </tr>\n",
              "    <tr>\n",
              "      <th>4</th>\n",
              "      <td>10556103</td>\n",
              "      <td>GENETIC RESEARCH INSTITUTE OF THE DESERT</td>\n",
              "      <td>T3</td>\n",
              "      <td>Independent</td>\n",
              "      <td>C1000</td>\n",
              "      <td>Heathcare</td>\n",
              "      <td>Trust</td>\n",
              "      <td>1</td>\n",
              "      <td>100000-499999</td>\n",
              "      <td>N</td>\n",
              "      <td>142590</td>\n",
              "      <td>1</td>\n",
              "    </tr>\n",
              "  </tbody>\n",
              "</table>\n",
              "</div>\n",
              "    <div class=\"colab-df-buttons\">\n",
              "\n",
              "  <div class=\"colab-df-container\">\n",
              "    <button class=\"colab-df-convert\" onclick=\"convertToInteractive('df-d4494b9a-cc8f-45ed-af01-0a9aad83a605')\"\n",
              "            title=\"Convert this dataframe to an interactive table.\"\n",
              "            style=\"display:none;\">\n",
              "\n",
              "  <svg xmlns=\"http://www.w3.org/2000/svg\" height=\"24px\" viewBox=\"0 -960 960 960\">\n",
              "    <path d=\"M120-120v-720h720v720H120Zm60-500h600v-160H180v160Zm220 220h160v-160H400v160Zm0 220h160v-160H400v160ZM180-400h160v-160H180v160Zm440 0h160v-160H620v160ZM180-180h160v-160H180v160Zm440 0h160v-160H620v160Z\"/>\n",
              "  </svg>\n",
              "    </button>\n",
              "\n",
              "  <style>\n",
              "    .colab-df-container {\n",
              "      display:flex;\n",
              "      gap: 12px;\n",
              "    }\n",
              "\n",
              "    .colab-df-convert {\n",
              "      background-color: #E8F0FE;\n",
              "      border: none;\n",
              "      border-radius: 50%;\n",
              "      cursor: pointer;\n",
              "      display: none;\n",
              "      fill: #1967D2;\n",
              "      height: 32px;\n",
              "      padding: 0 0 0 0;\n",
              "      width: 32px;\n",
              "    }\n",
              "\n",
              "    .colab-df-convert:hover {\n",
              "      background-color: #E2EBFA;\n",
              "      box-shadow: 0px 1px 2px rgba(60, 64, 67, 0.3), 0px 1px 3px 1px rgba(60, 64, 67, 0.15);\n",
              "      fill: #174EA6;\n",
              "    }\n",
              "\n",
              "    .colab-df-buttons div {\n",
              "      margin-bottom: 4px;\n",
              "    }\n",
              "\n",
              "    [theme=dark] .colab-df-convert {\n",
              "      background-color: #3B4455;\n",
              "      fill: #D2E3FC;\n",
              "    }\n",
              "\n",
              "    [theme=dark] .colab-df-convert:hover {\n",
              "      background-color: #434B5C;\n",
              "      box-shadow: 0px 1px 3px 1px rgba(0, 0, 0, 0.15);\n",
              "      filter: drop-shadow(0px 1px 2px rgba(0, 0, 0, 0.3));\n",
              "      fill: #FFFFFF;\n",
              "    }\n",
              "  </style>\n",
              "\n",
              "    <script>\n",
              "      const buttonEl =\n",
              "        document.querySelector('#df-d4494b9a-cc8f-45ed-af01-0a9aad83a605 button.colab-df-convert');\n",
              "      buttonEl.style.display =\n",
              "        google.colab.kernel.accessAllowed ? 'block' : 'none';\n",
              "\n",
              "      async function convertToInteractive(key) {\n",
              "        const element = document.querySelector('#df-d4494b9a-cc8f-45ed-af01-0a9aad83a605');\n",
              "        const dataTable =\n",
              "          await google.colab.kernel.invokeFunction('convertToInteractive',\n",
              "                                                    [key], {});\n",
              "        if (!dataTable) return;\n",
              "\n",
              "        const docLinkHtml = 'Like what you see? Visit the ' +\n",
              "          '<a target=\"_blank\" href=https://colab.research.google.com/notebooks/data_table.ipynb>data table notebook</a>'\n",
              "          + ' to learn more about interactive tables.';\n",
              "        element.innerHTML = '';\n",
              "        dataTable['output_type'] = 'display_data';\n",
              "        await google.colab.output.renderOutput(dataTable, element);\n",
              "        const docLink = document.createElement('div');\n",
              "        docLink.innerHTML = docLinkHtml;\n",
              "        element.appendChild(docLink);\n",
              "      }\n",
              "    </script>\n",
              "  </div>\n",
              "\n",
              "\n",
              "<div id=\"df-22419c6e-3b44-4e0f-8812-b10f18b73bbe\">\n",
              "  <button class=\"colab-df-quickchart\" onclick=\"quickchart('df-22419c6e-3b44-4e0f-8812-b10f18b73bbe')\"\n",
              "            title=\"Suggest charts\"\n",
              "            style=\"display:none;\">\n",
              "\n",
              "<svg xmlns=\"http://www.w3.org/2000/svg\" height=\"24px\"viewBox=\"0 0 24 24\"\n",
              "     width=\"24px\">\n",
              "    <g>\n",
              "        <path d=\"M19 3H5c-1.1 0-2 .9-2 2v14c0 1.1.9 2 2 2h14c1.1 0 2-.9 2-2V5c0-1.1-.9-2-2-2zM9 17H7v-7h2v7zm4 0h-2V7h2v10zm4 0h-2v-4h2v4z\"/>\n",
              "    </g>\n",
              "</svg>\n",
              "  </button>\n",
              "\n",
              "<style>\n",
              "  .colab-df-quickchart {\n",
              "      --bg-color: #E8F0FE;\n",
              "      --fill-color: #1967D2;\n",
              "      --hover-bg-color: #E2EBFA;\n",
              "      --hover-fill-color: #174EA6;\n",
              "      --disabled-fill-color: #AAA;\n",
              "      --disabled-bg-color: #DDD;\n",
              "  }\n",
              "\n",
              "  [theme=dark] .colab-df-quickchart {\n",
              "      --bg-color: #3B4455;\n",
              "      --fill-color: #D2E3FC;\n",
              "      --hover-bg-color: #434B5C;\n",
              "      --hover-fill-color: #FFFFFF;\n",
              "      --disabled-bg-color: #3B4455;\n",
              "      --disabled-fill-color: #666;\n",
              "  }\n",
              "\n",
              "  .colab-df-quickchart {\n",
              "    background-color: var(--bg-color);\n",
              "    border: none;\n",
              "    border-radius: 50%;\n",
              "    cursor: pointer;\n",
              "    display: none;\n",
              "    fill: var(--fill-color);\n",
              "    height: 32px;\n",
              "    padding: 0;\n",
              "    width: 32px;\n",
              "  }\n",
              "\n",
              "  .colab-df-quickchart:hover {\n",
              "    background-color: var(--hover-bg-color);\n",
              "    box-shadow: 0 1px 2px rgba(60, 64, 67, 0.3), 0 1px 3px 1px rgba(60, 64, 67, 0.15);\n",
              "    fill: var(--button-hover-fill-color);\n",
              "  }\n",
              "\n",
              "  .colab-df-quickchart-complete:disabled,\n",
              "  .colab-df-quickchart-complete:disabled:hover {\n",
              "    background-color: var(--disabled-bg-color);\n",
              "    fill: var(--disabled-fill-color);\n",
              "    box-shadow: none;\n",
              "  }\n",
              "\n",
              "  .colab-df-spinner {\n",
              "    border: 2px solid var(--fill-color);\n",
              "    border-color: transparent;\n",
              "    border-bottom-color: var(--fill-color);\n",
              "    animation:\n",
              "      spin 1s steps(1) infinite;\n",
              "  }\n",
              "\n",
              "  @keyframes spin {\n",
              "    0% {\n",
              "      border-color: transparent;\n",
              "      border-bottom-color: var(--fill-color);\n",
              "      border-left-color: var(--fill-color);\n",
              "    }\n",
              "    20% {\n",
              "      border-color: transparent;\n",
              "      border-left-color: var(--fill-color);\n",
              "      border-top-color: var(--fill-color);\n",
              "    }\n",
              "    30% {\n",
              "      border-color: transparent;\n",
              "      border-left-color: var(--fill-color);\n",
              "      border-top-color: var(--fill-color);\n",
              "      border-right-color: var(--fill-color);\n",
              "    }\n",
              "    40% {\n",
              "      border-color: transparent;\n",
              "      border-right-color: var(--fill-color);\n",
              "      border-top-color: var(--fill-color);\n",
              "    }\n",
              "    60% {\n",
              "      border-color: transparent;\n",
              "      border-right-color: var(--fill-color);\n",
              "    }\n",
              "    80% {\n",
              "      border-color: transparent;\n",
              "      border-right-color: var(--fill-color);\n",
              "      border-bottom-color: var(--fill-color);\n",
              "    }\n",
              "    90% {\n",
              "      border-color: transparent;\n",
              "      border-bottom-color: var(--fill-color);\n",
              "    }\n",
              "  }\n",
              "</style>\n",
              "\n",
              "  <script>\n",
              "    async function quickchart(key) {\n",
              "      const quickchartButtonEl =\n",
              "        document.querySelector('#' + key + ' button');\n",
              "      quickchartButtonEl.disabled = true;  // To prevent multiple clicks.\n",
              "      quickchartButtonEl.classList.add('colab-df-spinner');\n",
              "      try {\n",
              "        const charts = await google.colab.kernel.invokeFunction(\n",
              "            'suggestCharts', [key], {});\n",
              "      } catch (error) {\n",
              "        console.error('Error during call to suggestCharts:', error);\n",
              "      }\n",
              "      quickchartButtonEl.classList.remove('colab-df-spinner');\n",
              "      quickchartButtonEl.classList.add('colab-df-quickchart-complete');\n",
              "    }\n",
              "    (() => {\n",
              "      let quickchartButtonEl =\n",
              "        document.querySelector('#df-22419c6e-3b44-4e0f-8812-b10f18b73bbe button');\n",
              "      quickchartButtonEl.style.display =\n",
              "        google.colab.kernel.accessAllowed ? 'block' : 'none';\n",
              "    })();\n",
              "  </script>\n",
              "</div>\n",
              "\n",
              "    </div>\n",
              "  </div>\n"
            ],
            "application/vnd.google.colaboratory.intrinsic+json": {
              "type": "dataframe",
              "variable_name": "application_df",
              "summary": "{\n  \"name\": \"application_df\",\n  \"rows\": 34299,\n  \"fields\": [\n    {\n      \"column\": \"EIN\",\n      \"properties\": {\n        \"dtype\": \"number\",\n        \"std\": 245147183,\n        \"min\": 10520599,\n        \"max\": 996086871,\n        \"num_unique_values\": 34299,\n        \"samples\": [\n          271598055,\n          900109768,\n          352562499\n        ],\n        \"semantic_type\": \"\",\n        \"description\": \"\"\n      }\n    },\n    {\n      \"column\": \"NAME\",\n      \"properties\": {\n        \"dtype\": \"string\",\n        \"num_unique_values\": 19568,\n        \"samples\": [\n          \"LOCAL 12 USW GOODYEAR INSTITUTE FORCAREER DEVELOPMENT\",\n          \"INTERNATION ASSOCIATION OF ELECTRICAL INSPECTORS\",\n          \"BRICKLAYERS & ALLIED CRAFTWORKERS LOCAL 13 VACATION FUND\"\n        ],\n        \"semantic_type\": \"\",\n        \"description\": \"\"\n      }\n    },\n    {\n      \"column\": \"APPLICATION_TYPE\",\n      \"properties\": {\n        \"dtype\": \"category\",\n        \"num_unique_values\": 17,\n        \"samples\": [\n          \"T10\",\n          \"T3\",\n          \"T6\"\n        ],\n        \"semantic_type\": \"\",\n        \"description\": \"\"\n      }\n    },\n    {\n      \"column\": \"AFFILIATION\",\n      \"properties\": {\n        \"dtype\": \"category\",\n        \"num_unique_values\": 6,\n        \"samples\": [\n          \"Independent\",\n          \"CompanySponsored\",\n          \"Other\"\n        ],\n        \"semantic_type\": \"\",\n        \"description\": \"\"\n      }\n    },\n    {\n      \"column\": \"CLASSIFICATION\",\n      \"properties\": {\n        \"dtype\": \"category\",\n        \"num_unique_values\": 71,\n        \"samples\": [\n          \"C1500\",\n          \"C1000\",\n          \"C1570\"\n        ],\n        \"semantic_type\": \"\",\n        \"description\": \"\"\n      }\n    },\n    {\n      \"column\": \"USE_CASE\",\n      \"properties\": {\n        \"dtype\": \"category\",\n        \"num_unique_values\": 5,\n        \"samples\": [\n          \"Preservation\",\n          \"Other\",\n          \"Heathcare\"\n        ],\n        \"semantic_type\": \"\",\n        \"description\": \"\"\n      }\n    },\n    {\n      \"column\": \"ORGANIZATION\",\n      \"properties\": {\n        \"dtype\": \"category\",\n        \"num_unique_values\": 4,\n        \"samples\": [\n          \"Co-operative\",\n          \"Corporation\",\n          \"Association\"\n        ],\n        \"semantic_type\": \"\",\n        \"description\": \"\"\n      }\n    },\n    {\n      \"column\": \"STATUS\",\n      \"properties\": {\n        \"dtype\": \"number\",\n        \"std\": 0,\n        \"min\": 0,\n        \"max\": 1,\n        \"num_unique_values\": 2,\n        \"samples\": [\n          0,\n          1\n        ],\n        \"semantic_type\": \"\",\n        \"description\": \"\"\n      }\n    },\n    {\n      \"column\": \"INCOME_AMT\",\n      \"properties\": {\n        \"dtype\": \"category\",\n        \"num_unique_values\": 9,\n        \"samples\": [\n          \"1M-5M\",\n          \"1-9999\"\n        ],\n        \"semantic_type\": \"\",\n        \"description\": \"\"\n      }\n    },\n    {\n      \"column\": \"SPECIAL_CONSIDERATIONS\",\n      \"properties\": {\n        \"dtype\": \"category\",\n        \"num_unique_values\": 2,\n        \"samples\": [\n          \"Y\",\n          \"N\"\n        ],\n        \"semantic_type\": \"\",\n        \"description\": \"\"\n      }\n    },\n    {\n      \"column\": \"ASK_AMT\",\n      \"properties\": {\n        \"dtype\": \"number\",\n        \"std\": 87130452,\n        \"min\": 5000,\n        \"max\": 8597806340,\n        \"num_unique_values\": 8747,\n        \"samples\": [\n          1328927,\n          42942\n        ],\n        \"semantic_type\": \"\",\n        \"description\": \"\"\n      }\n    },\n    {\n      \"column\": \"IS_SUCCESSFUL\",\n      \"properties\": {\n        \"dtype\": \"number\",\n        \"std\": 0,\n        \"min\": 0,\n        \"max\": 1,\n        \"num_unique_values\": 2,\n        \"samples\": [\n          0,\n          1\n        ],\n        \"semantic_type\": \"\",\n        \"description\": \"\"\n      }\n    }\n  ]\n}"
            }
          },
          "metadata": {},
          "execution_count": 1
        }
      ],
      "source": [
        "# Import our dependencies\n",
        "from sklearn.model_selection import train_test_split\n",
        "from sklearn.preprocessing import StandardScaler\n",
        "import pandas as pd\n",
        "import tensorflow as tf\n",
        "import matplotlib.pyplot as plt\n",
        "\n",
        "#  Import and read the charity_data.csv.\n",
        "import pandas as pd\n",
        "application_df = pd.read_csv(\"https://static.bc-edx.com/data/dl-1-2/m21/lms/starter/charity_data.csv\")\n",
        "application_df.head()"
      ]
    },
    {
      "cell_type": "code",
      "execution_count": 2,
      "metadata": {
        "id": "8rjgYPMlzKg0"
      },
      "outputs": [],
      "source": [
        "# Drop the non-beneficial ID columns, 'EIN' and 'NAME'.\n",
        "application_df.drop(columns=[\"EIN\", \"NAME\"], inplace=True)"
      ]
    },
    {
      "cell_type": "code",
      "execution_count": 3,
      "metadata": {
        "id": "jOwplJwSzKg0",
        "outputId": "cc62bea6-32e3-4d30-f7fd-9d883816bbfc",
        "colab": {
          "base_uri": "https://localhost:8080/"
        }
      },
      "outputs": [
        {
          "output_type": "stream",
          "name": "stdout",
          "text": [
            "APPLICATION_TYPE            17\n",
            "AFFILIATION                  6\n",
            "CLASSIFICATION              71\n",
            "USE_CASE                     5\n",
            "ORGANIZATION                 4\n",
            "STATUS                       2\n",
            "INCOME_AMT                   9\n",
            "SPECIAL_CONSIDERATIONS       2\n",
            "ASK_AMT                   8747\n",
            "IS_SUCCESSFUL                2\n",
            "dtype: int64\n"
          ]
        }
      ],
      "source": [
        "# Determine the number of unique values in each column.\n",
        "print(application_df.nunique())"
      ]
    },
    {
      "cell_type": "code",
      "execution_count": 4,
      "metadata": {
        "id": "7EMDwlA1zKg0",
        "outputId": "7ffbd7c5-291c-42aa-a56c-9bfd043b0127",
        "colab": {
          "base_uri": "https://localhost:8080/"
        }
      },
      "outputs": [
        {
          "output_type": "stream",
          "name": "stdout",
          "text": [
            "T3     27037\n",
            "T4      1542\n",
            "T6      1216\n",
            "T5      1173\n",
            "T19     1065\n",
            "T8       737\n",
            "T7       725\n",
            "T10      528\n",
            "T9       156\n",
            "T13       66\n",
            "T12       27\n",
            "T2        16\n",
            "T25        3\n",
            "T14        3\n",
            "T29        2\n",
            "T15        2\n",
            "T17        1\n",
            "Name: APPLICATION_TYPE, dtype: int64\n"
          ]
        }
      ],
      "source": [
        "# Look at APPLICATION_TYPE value counts for binning\n",
        "print(application_df['APPLICATION_TYPE'].value_counts())"
      ]
    },
    {
      "cell_type": "code",
      "execution_count": 5,
      "metadata": {
        "id": "3m9PolhSzKg1",
        "outputId": "ef0723da-5287-4ce1-e7d2-b7cfbd5e60ba",
        "colab": {
          "base_uri": "https://localhost:8080/"
        }
      },
      "outputs": [
        {
          "output_type": "execute_result",
          "data": {
            "text/plain": [
              "T3       27037\n",
              "T4        1542\n",
              "T6        1216\n",
              "T5        1173\n",
              "T19       1065\n",
              "T8         737\n",
              "T7         725\n",
              "T10        528\n",
              "Other      276\n",
              "Name: APPLICATION_TYPE, dtype: int64"
            ]
          },
          "metadata": {},
          "execution_count": 5
        }
      ],
      "source": [
        "# Choose a cutoff value and create a list of application types to be replaced\n",
        "# use the variable name `application_types_to_replace`\n",
        "application_types_to_replace = ['T9', 'T13', 'T12', 'T2', 'T14', 'T25', 'T15', 'T29', 'T17']\n",
        "\n",
        "# Replace in dataframe\n",
        "for app in application_types_to_replace:\n",
        "    application_df['APPLICATION_TYPE'] = application_df['APPLICATION_TYPE'].replace(app,\"Other\")\n",
        "\n",
        "# Check to make sure binning was successful\n",
        "application_df['APPLICATION_TYPE'].value_counts()"
      ]
    },
    {
      "cell_type": "code",
      "execution_count": 6,
      "metadata": {
        "id": "KG-u44lDzKg1",
        "outputId": "f4a955cb-b473-4ce7-9637-398d9c3724fc",
        "colab": {
          "base_uri": "https://localhost:8080/"
        }
      },
      "outputs": [
        {
          "output_type": "stream",
          "name": "stdout",
          "text": [
            "C1000    17326\n",
            "C2000     6074\n",
            "C1200     4837\n",
            "C3000     1918\n",
            "C2100     1883\n",
            "         ...  \n",
            "C4120        1\n",
            "C8210        1\n",
            "C2561        1\n",
            "C4500        1\n",
            "C2150        1\n",
            "Name: CLASSIFICATION, Length: 71, dtype: int64\n"
          ]
        }
      ],
      "source": [
        "# Look at CLASSIFICATION value counts for binning\n",
        "print(application_df['CLASSIFICATION'].value_counts())"
      ]
    },
    {
      "cell_type": "code",
      "execution_count": 7,
      "metadata": {
        "id": "e5oVPvo7zKg1",
        "outputId": "fae3da7c-4a4d-410f-af37-03527657e9f9",
        "colab": {
          "base_uri": "https://localhost:8080/"
        }
      },
      "outputs": [
        {
          "output_type": "stream",
          "name": "stdout",
          "text": [
            "C1000    17326\n",
            "C2000     6074\n",
            "C1200     4837\n",
            "C3000     1918\n",
            "C2100     1883\n",
            "C7000      777\n",
            "C1700      287\n",
            "C4000      194\n",
            "C5000      116\n",
            "C1270      114\n",
            "C2700      104\n",
            "C2800       95\n",
            "C7100       75\n",
            "C1300       58\n",
            "C1280       50\n",
            "C1230       36\n",
            "C1400       34\n",
            "C7200       32\n",
            "C2300       32\n",
            "C1240       30\n",
            "Other       26\n",
            "C8000       20\n",
            "C7120       18\n",
            "C1500       16\n",
            "C6000       15\n",
            "C1800       15\n",
            "C1250       14\n",
            "C8200       11\n",
            "C1238       10\n",
            "C1278       10\n",
            "C1237        9\n",
            "C1235        9\n",
            "C7210        7\n",
            "C1720        6\n",
            "C2400        6\n",
            "C4100        6\n",
            "C1257        5\n",
            "C1600        5\n",
            "C1260        3\n",
            "C2710        3\n",
            "C0           3\n",
            "C1267        2\n",
            "C1256        2\n",
            "C1234        2\n",
            "C1246        2\n",
            "C3200        2\n",
            "Name: CLASSIFICATION, dtype: int64\n"
          ]
        }
      ],
      "source": [
        "# You may find it helpful to look at CLASSIFICATION value counts >1\n",
        "classification_counts = application_df['CLASSIFICATION'].value_counts()\n",
        "classification_types_to_replace = classification_counts[classification_counts == 1].index.tolist()\n",
        "\n",
        "for cls in classification_types_to_replace:\n",
        "    application_df['CLASSIFICATION'] = application_df['CLASSIFICATION'].replace(cls, \"Other\")\n",
        "\n",
        "print(application_df['CLASSIFICATION'].value_counts())\n"
      ]
    },
    {
      "cell_type": "code",
      "execution_count": 8,
      "metadata": {
        "id": "frIdq56czKg2",
        "outputId": "628c1c0c-9e1b-42d8-b5fd-14de31ef31ec",
        "colab": {
          "base_uri": "https://localhost:8080/"
        }
      },
      "outputs": [
        {
          "output_type": "stream",
          "name": "stdout",
          "text": [
            "C1000    17326\n",
            "C2000     6074\n",
            "C1200     4837\n",
            "C3000     1918\n",
            "C2100     1883\n",
            "C7000      777\n",
            "Other      669\n",
            "C1700      287\n",
            "C4000      194\n",
            "C5000      116\n",
            "C1270      114\n",
            "C2700      104\n",
            "Name: CLASSIFICATION, dtype: int64\n"
          ]
        }
      ],
      "source": [
        "# Choose a cutoff value and create a list of classifications to be replaced\n",
        "cutoff = 100\n",
        "classification_counts = application_df['CLASSIFICATION'].value_counts()\n",
        "classifications_to_replace = classification_counts[classification_counts < cutoff].index.tolist()\n",
        "\n",
        "# Replace in dataframe\n",
        "for cls in classifications_to_replace:\n",
        "    application_df['CLASSIFICATION'] = application_df['CLASSIFICATION'].replace(cls, \"Other\")\n",
        "\n",
        "# Check to make sure binning was successful\n",
        "print(application_df['CLASSIFICATION'].value_counts())"
      ]
    },
    {
      "cell_type": "code",
      "execution_count": 9,
      "metadata": {
        "id": "8dH249bZzKg2"
      },
      "outputs": [],
      "source": [
        "# Convert categorical data to numeric with `pd.get_dummies`\n",
        "application_df_encoded = pd.get_dummies(application_df)\n"
      ]
    },
    {
      "cell_type": "code",
      "execution_count": 10,
      "metadata": {
        "id": "pdHAzat1zKg2"
      },
      "outputs": [],
      "source": [
        "# Split our preprocessed data into our features and target arrays\n",
        "X = application_df_encoded.drop(['IS_SUCCESSFUL'], axis=1).values\n",
        "y = application_df_encoded['IS_SUCCESSFUL'].values\n",
        "\n",
        "# Split the preprocessed data into a training and testing dataset\n",
        "X_train, X_test, y_train, y_test = train_test_split(X, y, random_state=42)\n"
      ]
    },
    {
      "cell_type": "code",
      "execution_count": 11,
      "metadata": {
        "id": "-YWE8B1TzKg3"
      },
      "outputs": [],
      "source": [
        "# Create a StandardScaler instances\n",
        "scaler = StandardScaler()\n",
        "\n",
        "# Fit the StandardScaler\n",
        "X_scaler = scaler.fit(X_train)\n",
        "\n",
        "# Scale the data\n",
        "X_train_scaled = X_scaler.transform(X_train)\n",
        "X_test_scaled = X_scaler.transform(X_test)"
      ]
    },
    {
      "cell_type": "markdown",
      "metadata": {
        "id": "NnmKVLKJzKg3"
      },
      "source": [
        "## Compile, Train and Evaluate the Model"
      ]
    },
    {
      "cell_type": "code",
      "execution_count": 12,
      "metadata": {
        "id": "cYO5Pej5zKg3",
        "outputId": "d0778b7a-01ea-47b5-c73b-3a70eeeeb55a",
        "colab": {
          "base_uri": "https://localhost:8080/"
        }
      },
      "outputs": [
        {
          "output_type": "stream",
          "name": "stdout",
          "text": [
            "Model: \"sequential\"\n",
            "_________________________________________________________________\n",
            " Layer (type)                Output Shape              Param #   \n",
            "=================================================================\n",
            " dense (Dense)               (None, 80)                4000      \n",
            "                                                                 \n",
            " dense_1 (Dense)             (None, 30)                2430      \n",
            "                                                                 \n",
            " dense_2 (Dense)             (None, 1)                 31        \n",
            "                                                                 \n",
            "=================================================================\n",
            "Total params: 6461 (25.24 KB)\n",
            "Trainable params: 6461 (25.24 KB)\n",
            "Non-trainable params: 0 (0.00 Byte)\n",
            "_________________________________________________________________\n"
          ]
        }
      ],
      "source": [
        "# Define the model - deep neural net, i.e., the number of input features and hidden nodes for each layer.\n",
        "number_input_features = len(X_train_scaled[0])\n",
        "hidden_nodes_layer1 = 80\n",
        "hidden_nodes_layer2 = 30\n",
        "\n",
        "nn = tf.keras.models.Sequential()\n",
        "\n",
        "# First hidden layer\n",
        "nn.add(tf.keras.layers.Dense(units=hidden_nodes_layer1, input_dim=number_input_features, activation='relu'))\n",
        "\n",
        "# Second hidden layer\n",
        "nn.add(tf.keras.layers.Dense(units=hidden_nodes_layer2, activation='relu'))\n",
        "\n",
        "# Output layer\n",
        "nn.add(tf.keras.layers.Dense(units=1, activation='sigmoid'))\n",
        "\n",
        "# Check the structure of the model\n",
        "nn.summary()"
      ]
    },
    {
      "cell_type": "code",
      "execution_count": 13,
      "metadata": {
        "id": "A9a7gfkKzKg3"
      },
      "outputs": [],
      "source": [
        "# Compile the model\n",
        "nn.compile(loss='binary_crossentropy', optimizer='adam', metrics=['accuracy'])"
      ]
    },
    {
      "cell_type": "code",
      "execution_count": 14,
      "metadata": {
        "id": "Qa_JD_ChzKg4",
        "outputId": "2247dad9-b0a3-4db3-ec7a-ed1a9783d1d5",
        "colab": {
          "base_uri": "https://localhost:8080/"
        }
      },
      "outputs": [
        {
          "output_type": "stream",
          "name": "stdout",
          "text": [
            "Epoch 1/100\n",
            "81/81 - 5s - loss: 0.5868 - accuracy: 0.7109 - val_loss: 0.5531 - val_accuracy: 0.7376 - 5s/epoch - 61ms/step\n",
            "Epoch 2/100\n",
            "81/81 - 0s - loss: 0.5589 - accuracy: 0.7254 - val_loss: 0.5473 - val_accuracy: 0.7343 - 317ms/epoch - 4ms/step\n",
            "Epoch 3/100\n",
            "81/81 - 0s - loss: 0.5547 - accuracy: 0.7254 - val_loss: 0.5464 - val_accuracy: 0.7384 - 410ms/epoch - 5ms/step\n",
            "Epoch 4/100\n",
            "81/81 - 0s - loss: 0.5516 - accuracy: 0.7284 - val_loss: 0.5438 - val_accuracy: 0.7361 - 462ms/epoch - 6ms/step\n",
            "Epoch 5/100\n",
            "81/81 - 1s - loss: 0.5500 - accuracy: 0.7285 - val_loss: 0.5460 - val_accuracy: 0.7351 - 548ms/epoch - 7ms/step\n",
            "Epoch 6/100\n",
            "81/81 - 0s - loss: 0.5484 - accuracy: 0.7294 - val_loss: 0.5454 - val_accuracy: 0.7329 - 341ms/epoch - 4ms/step\n",
            "Epoch 7/100\n",
            "81/81 - 0s - loss: 0.5478 - accuracy: 0.7283 - val_loss: 0.5446 - val_accuracy: 0.7361 - 446ms/epoch - 6ms/step\n",
            "Epoch 8/100\n",
            "81/81 - 1s - loss: 0.5467 - accuracy: 0.7302 - val_loss: 0.5423 - val_accuracy: 0.7382 - 572ms/epoch - 7ms/step\n",
            "Epoch 9/100\n",
            "81/81 - 0s - loss: 0.5460 - accuracy: 0.7304 - val_loss: 0.5435 - val_accuracy: 0.7361 - 425ms/epoch - 5ms/step\n",
            "Epoch 10/100\n",
            "81/81 - 0s - loss: 0.5458 - accuracy: 0.7306 - val_loss: 0.5428 - val_accuracy: 0.7359 - 404ms/epoch - 5ms/step\n",
            "Epoch 11/100\n",
            "81/81 - 0s - loss: 0.5446 - accuracy: 0.7301 - val_loss: 0.5433 - val_accuracy: 0.7359 - 281ms/epoch - 3ms/step\n",
            "Epoch 12/100\n",
            "81/81 - 0s - loss: 0.5445 - accuracy: 0.7318 - val_loss: 0.5431 - val_accuracy: 0.7380 - 398ms/epoch - 5ms/step\n",
            "Epoch 13/100\n",
            "81/81 - 0s - loss: 0.5449 - accuracy: 0.7326 - val_loss: 0.5442 - val_accuracy: 0.7361 - 314ms/epoch - 4ms/step\n",
            "Epoch 14/100\n",
            "81/81 - 0s - loss: 0.5433 - accuracy: 0.7326 - val_loss: 0.5429 - val_accuracy: 0.7378 - 335ms/epoch - 4ms/step\n",
            "Epoch 15/100\n",
            "81/81 - 1s - loss: 0.5434 - accuracy: 0.7325 - val_loss: 0.5448 - val_accuracy: 0.7359 - 525ms/epoch - 6ms/step\n",
            "Epoch 16/100\n",
            "81/81 - 1s - loss: 0.5432 - accuracy: 0.7333 - val_loss: 0.5440 - val_accuracy: 0.7347 - 519ms/epoch - 6ms/step\n",
            "Epoch 17/100\n",
            "81/81 - 1s - loss: 0.5427 - accuracy: 0.7327 - val_loss: 0.5433 - val_accuracy: 0.7368 - 678ms/epoch - 8ms/step\n",
            "Epoch 18/100\n",
            "81/81 - 1s - loss: 0.5425 - accuracy: 0.7338 - val_loss: 0.5431 - val_accuracy: 0.7382 - 546ms/epoch - 7ms/step\n",
            "Epoch 19/100\n",
            "81/81 - 1s - loss: 0.5418 - accuracy: 0.7336 - val_loss: 0.5437 - val_accuracy: 0.7351 - 581ms/epoch - 7ms/step\n",
            "Epoch 20/100\n",
            "81/81 - 1s - loss: 0.5419 - accuracy: 0.7336 - val_loss: 0.5444 - val_accuracy: 0.7380 - 653ms/epoch - 8ms/step\n",
            "Epoch 21/100\n",
            "81/81 - 1s - loss: 0.5418 - accuracy: 0.7321 - val_loss: 0.5426 - val_accuracy: 0.7388 - 578ms/epoch - 7ms/step\n",
            "Epoch 22/100\n",
            "81/81 - 0s - loss: 0.5414 - accuracy: 0.7331 - val_loss: 0.5455 - val_accuracy: 0.7368 - 451ms/epoch - 6ms/step\n",
            "Epoch 23/100\n",
            "81/81 - 0s - loss: 0.5418 - accuracy: 0.7339 - val_loss: 0.5436 - val_accuracy: 0.7351 - 383ms/epoch - 5ms/step\n",
            "Epoch 24/100\n",
            "81/81 - 0s - loss: 0.5411 - accuracy: 0.7346 - val_loss: 0.5435 - val_accuracy: 0.7392 - 384ms/epoch - 5ms/step\n",
            "Epoch 25/100\n",
            "81/81 - 0s - loss: 0.5412 - accuracy: 0.7340 - val_loss: 0.5420 - val_accuracy: 0.7370 - 347ms/epoch - 4ms/step\n",
            "Epoch 26/100\n",
            "81/81 - 0s - loss: 0.5408 - accuracy: 0.7346 - val_loss: 0.5441 - val_accuracy: 0.7376 - 409ms/epoch - 5ms/step\n",
            "Epoch 27/100\n",
            "81/81 - 0s - loss: 0.5403 - accuracy: 0.7340 - val_loss: 0.5436 - val_accuracy: 0.7362 - 492ms/epoch - 6ms/step\n",
            "Epoch 28/100\n",
            "81/81 - 0s - loss: 0.5405 - accuracy: 0.7347 - val_loss: 0.5439 - val_accuracy: 0.7378 - 370ms/epoch - 5ms/step\n",
            "Epoch 29/100\n",
            "81/81 - 0s - loss: 0.5401 - accuracy: 0.7349 - val_loss: 0.5433 - val_accuracy: 0.7372 - 498ms/epoch - 6ms/step\n",
            "Epoch 30/100\n",
            "81/81 - 0s - loss: 0.5397 - accuracy: 0.7339 - val_loss: 0.5420 - val_accuracy: 0.7364 - 327ms/epoch - 4ms/step\n",
            "Epoch 31/100\n",
            "81/81 - 0s - loss: 0.5395 - accuracy: 0.7349 - val_loss: 0.5444 - val_accuracy: 0.7390 - 421ms/epoch - 5ms/step\n",
            "Epoch 32/100\n",
            "81/81 - 0s - loss: 0.5397 - accuracy: 0.7347 - val_loss: 0.5438 - val_accuracy: 0.7359 - 420ms/epoch - 5ms/step\n",
            "Epoch 33/100\n",
            "81/81 - 0s - loss: 0.5392 - accuracy: 0.7350 - val_loss: 0.5428 - val_accuracy: 0.7390 - 252ms/epoch - 3ms/step\n",
            "Epoch 34/100\n",
            "81/81 - 0s - loss: 0.5399 - accuracy: 0.7340 - val_loss: 0.5426 - val_accuracy: 0.7366 - 192ms/epoch - 2ms/step\n",
            "Epoch 35/100\n",
            "81/81 - 0s - loss: 0.5394 - accuracy: 0.7353 - val_loss: 0.5435 - val_accuracy: 0.7364 - 186ms/epoch - 2ms/step\n",
            "Epoch 36/100\n",
            "81/81 - 0s - loss: 0.5390 - accuracy: 0.7354 - val_loss: 0.5438 - val_accuracy: 0.7364 - 220ms/epoch - 3ms/step\n",
            "Epoch 37/100\n",
            "81/81 - 0s - loss: 0.5389 - accuracy: 0.7345 - val_loss: 0.5446 - val_accuracy: 0.7366 - 219ms/epoch - 3ms/step\n",
            "Epoch 38/100\n",
            "81/81 - 0s - loss: 0.5384 - accuracy: 0.7344 - val_loss: 0.5432 - val_accuracy: 0.7392 - 224ms/epoch - 3ms/step\n",
            "Epoch 39/100\n",
            "81/81 - 0s - loss: 0.5387 - accuracy: 0.7361 - val_loss: 0.5424 - val_accuracy: 0.7366 - 216ms/epoch - 3ms/step\n",
            "Epoch 40/100\n",
            "81/81 - 0s - loss: 0.5387 - accuracy: 0.7357 - val_loss: 0.5426 - val_accuracy: 0.7376 - 183ms/epoch - 2ms/step\n",
            "Epoch 41/100\n",
            "81/81 - 0s - loss: 0.5385 - accuracy: 0.7340 - val_loss: 0.5436 - val_accuracy: 0.7368 - 185ms/epoch - 2ms/step\n",
            "Epoch 42/100\n",
            "81/81 - 0s - loss: 0.5380 - accuracy: 0.7367 - val_loss: 0.5433 - val_accuracy: 0.7362 - 204ms/epoch - 3ms/step\n",
            "Epoch 43/100\n",
            "81/81 - 0s - loss: 0.5381 - accuracy: 0.7354 - val_loss: 0.5437 - val_accuracy: 0.7364 - 221ms/epoch - 3ms/step\n",
            "Epoch 44/100\n",
            "81/81 - 0s - loss: 0.5379 - accuracy: 0.7348 - val_loss: 0.5438 - val_accuracy: 0.7364 - 219ms/epoch - 3ms/step\n",
            "Epoch 45/100\n",
            "81/81 - 0s - loss: 0.5379 - accuracy: 0.7360 - val_loss: 0.5435 - val_accuracy: 0.7345 - 215ms/epoch - 3ms/step\n",
            "Epoch 46/100\n",
            "81/81 - 0s - loss: 0.5379 - accuracy: 0.7363 - val_loss: 0.5444 - val_accuracy: 0.7368 - 216ms/epoch - 3ms/step\n",
            "Epoch 47/100\n",
            "81/81 - 0s - loss: 0.5376 - accuracy: 0.7356 - val_loss: 0.5449 - val_accuracy: 0.7366 - 193ms/epoch - 2ms/step\n",
            "Epoch 48/100\n",
            "81/81 - 0s - loss: 0.5379 - accuracy: 0.7356 - val_loss: 0.5419 - val_accuracy: 0.7366 - 184ms/epoch - 2ms/step\n",
            "Epoch 49/100\n",
            "81/81 - 0s - loss: 0.5377 - accuracy: 0.7356 - val_loss: 0.5427 - val_accuracy: 0.7386 - 216ms/epoch - 3ms/step\n",
            "Epoch 50/100\n",
            "81/81 - 0s - loss: 0.5367 - accuracy: 0.7377 - val_loss: 0.5440 - val_accuracy: 0.7359 - 216ms/epoch - 3ms/step\n",
            "Epoch 51/100\n",
            "81/81 - 0s - loss: 0.5378 - accuracy: 0.7360 - val_loss: 0.5439 - val_accuracy: 0.7368 - 220ms/epoch - 3ms/step\n",
            "Epoch 52/100\n",
            "81/81 - 0s - loss: 0.5377 - accuracy: 0.7367 - val_loss: 0.5437 - val_accuracy: 0.7376 - 228ms/epoch - 3ms/step\n",
            "Epoch 53/100\n",
            "81/81 - 0s - loss: 0.5370 - accuracy: 0.7361 - val_loss: 0.5443 - val_accuracy: 0.7370 - 214ms/epoch - 3ms/step\n",
            "Epoch 54/100\n",
            "81/81 - 0s - loss: 0.5375 - accuracy: 0.7363 - val_loss: 0.5439 - val_accuracy: 0.7384 - 189ms/epoch - 2ms/step\n",
            "Epoch 55/100\n",
            "81/81 - 0s - loss: 0.5370 - accuracy: 0.7365 - val_loss: 0.5433 - val_accuracy: 0.7368 - 190ms/epoch - 2ms/step\n",
            "Epoch 56/100\n",
            "81/81 - 0s - loss: 0.5366 - accuracy: 0.7365 - val_loss: 0.5444 - val_accuracy: 0.7355 - 190ms/epoch - 2ms/step\n",
            "Epoch 57/100\n",
            "81/81 - 0s - loss: 0.5366 - accuracy: 0.7377 - val_loss: 0.5447 - val_accuracy: 0.7359 - 302ms/epoch - 4ms/step\n",
            "Epoch 58/100\n",
            "81/81 - 0s - loss: 0.5373 - accuracy: 0.7351 - val_loss: 0.5432 - val_accuracy: 0.7378 - 283ms/epoch - 3ms/step\n",
            "Epoch 59/100\n",
            "81/81 - 0s - loss: 0.5369 - accuracy: 0.7364 - val_loss: 0.5434 - val_accuracy: 0.7374 - 264ms/epoch - 3ms/step\n",
            "Epoch 60/100\n",
            "81/81 - 0s - loss: 0.5365 - accuracy: 0.7356 - val_loss: 0.5434 - val_accuracy: 0.7386 - 277ms/epoch - 3ms/step\n",
            "Epoch 61/100\n",
            "81/81 - 0s - loss: 0.5362 - accuracy: 0.7382 - val_loss: 0.5436 - val_accuracy: 0.7366 - 294ms/epoch - 4ms/step\n",
            "Epoch 62/100\n",
            "81/81 - 0s - loss: 0.5365 - accuracy: 0.7374 - val_loss: 0.5444 - val_accuracy: 0.7361 - 286ms/epoch - 4ms/step\n",
            "Epoch 63/100\n",
            "81/81 - 0s - loss: 0.5362 - accuracy: 0.7371 - val_loss: 0.5430 - val_accuracy: 0.7374 - 284ms/epoch - 4ms/step\n",
            "Epoch 64/100\n",
            "81/81 - 0s - loss: 0.5362 - accuracy: 0.7382 - val_loss: 0.5445 - val_accuracy: 0.7359 - 306ms/epoch - 4ms/step\n",
            "Epoch 65/100\n",
            "81/81 - 0s - loss: 0.5362 - accuracy: 0.7379 - val_loss: 0.5438 - val_accuracy: 0.7366 - 217ms/epoch - 3ms/step\n",
            "Epoch 66/100\n",
            "81/81 - 0s - loss: 0.5364 - accuracy: 0.7365 - val_loss: 0.5437 - val_accuracy: 0.7376 - 186ms/epoch - 2ms/step\n",
            "Epoch 67/100\n",
            "81/81 - 0s - loss: 0.5359 - accuracy: 0.7373 - val_loss: 0.5460 - val_accuracy: 0.7361 - 213ms/epoch - 3ms/step\n",
            "Epoch 68/100\n",
            "81/81 - 0s - loss: 0.5364 - accuracy: 0.7364 - val_loss: 0.5455 - val_accuracy: 0.7359 - 213ms/epoch - 3ms/step\n",
            "Epoch 69/100\n",
            "81/81 - 0s - loss: 0.5359 - accuracy: 0.7372 - val_loss: 0.5443 - val_accuracy: 0.7357 - 183ms/epoch - 2ms/step\n",
            "Epoch 70/100\n",
            "81/81 - 0s - loss: 0.5360 - accuracy: 0.7374 - val_loss: 0.5435 - val_accuracy: 0.7394 - 212ms/epoch - 3ms/step\n",
            "Epoch 71/100\n",
            "81/81 - 0s - loss: 0.5362 - accuracy: 0.7363 - val_loss: 0.5444 - val_accuracy: 0.7357 - 183ms/epoch - 2ms/step\n",
            "Epoch 72/100\n",
            "81/81 - 0s - loss: 0.5353 - accuracy: 0.7366 - val_loss: 0.5455 - val_accuracy: 0.7347 - 214ms/epoch - 3ms/step\n",
            "Epoch 73/100\n",
            "81/81 - 0s - loss: 0.5362 - accuracy: 0.7378 - val_loss: 0.5441 - val_accuracy: 0.7361 - 217ms/epoch - 3ms/step\n",
            "Epoch 74/100\n",
            "81/81 - 0s - loss: 0.5352 - accuracy: 0.7379 - val_loss: 0.5436 - val_accuracy: 0.7384 - 184ms/epoch - 2ms/step\n",
            "Epoch 75/100\n",
            "81/81 - 0s - loss: 0.5354 - accuracy: 0.7379 - val_loss: 0.5447 - val_accuracy: 0.7364 - 218ms/epoch - 3ms/step\n",
            "Epoch 76/100\n",
            "81/81 - 0s - loss: 0.5358 - accuracy: 0.7367 - val_loss: 0.5432 - val_accuracy: 0.7374 - 193ms/epoch - 2ms/step\n",
            "Epoch 77/100\n",
            "81/81 - 0s - loss: 0.5355 - accuracy: 0.7365 - val_loss: 0.5427 - val_accuracy: 0.7388 - 179ms/epoch - 2ms/step\n",
            "Epoch 78/100\n",
            "81/81 - 0s - loss: 0.5359 - accuracy: 0.7367 - val_loss: 0.5448 - val_accuracy: 0.7357 - 220ms/epoch - 3ms/step\n",
            "Epoch 79/100\n",
            "81/81 - 0s - loss: 0.5354 - accuracy: 0.7366 - val_loss: 0.5435 - val_accuracy: 0.7378 - 219ms/epoch - 3ms/step\n",
            "Epoch 80/100\n",
            "81/81 - 0s - loss: 0.5353 - accuracy: 0.7362 - val_loss: 0.5455 - val_accuracy: 0.7341 - 218ms/epoch - 3ms/step\n",
            "Epoch 81/100\n",
            "81/81 - 0s - loss: 0.5356 - accuracy: 0.7367 - val_loss: 0.5452 - val_accuracy: 0.7366 - 191ms/epoch - 2ms/step\n",
            "Epoch 82/100\n",
            "81/81 - 0s - loss: 0.5357 - accuracy: 0.7373 - val_loss: 0.5463 - val_accuracy: 0.7355 - 217ms/epoch - 3ms/step\n",
            "Epoch 83/100\n",
            "81/81 - 0s - loss: 0.5347 - accuracy: 0.7363 - val_loss: 0.5455 - val_accuracy: 0.7343 - 233ms/epoch - 3ms/step\n",
            "Epoch 84/100\n",
            "81/81 - 0s - loss: 0.5359 - accuracy: 0.7384 - val_loss: 0.5447 - val_accuracy: 0.7364 - 189ms/epoch - 2ms/step\n",
            "Epoch 85/100\n",
            "81/81 - 0s - loss: 0.5352 - accuracy: 0.7358 - val_loss: 0.5458 - val_accuracy: 0.7361 - 208ms/epoch - 3ms/step\n",
            "Epoch 86/100\n",
            "81/81 - 0s - loss: 0.5353 - accuracy: 0.7380 - val_loss: 0.5448 - val_accuracy: 0.7364 - 184ms/epoch - 2ms/step\n",
            "Epoch 87/100\n",
            "81/81 - 0s - loss: 0.5346 - accuracy: 0.7386 - val_loss: 0.5432 - val_accuracy: 0.7355 - 189ms/epoch - 2ms/step\n",
            "Epoch 88/100\n",
            "81/81 - 0s - loss: 0.5347 - accuracy: 0.7369 - val_loss: 0.5484 - val_accuracy: 0.7353 - 230ms/epoch - 3ms/step\n",
            "Epoch 89/100\n",
            "81/81 - 0s - loss: 0.5354 - accuracy: 0.7375 - val_loss: 0.5446 - val_accuracy: 0.7361 - 224ms/epoch - 3ms/step\n",
            "Epoch 90/100\n",
            "81/81 - 0s - loss: 0.5350 - accuracy: 0.7378 - val_loss: 0.5453 - val_accuracy: 0.7368 - 184ms/epoch - 2ms/step\n",
            "Epoch 91/100\n",
            "81/81 - 0s - loss: 0.5341 - accuracy: 0.7385 - val_loss: 0.5444 - val_accuracy: 0.7370 - 187ms/epoch - 2ms/step\n",
            "Epoch 92/100\n",
            "81/81 - 0s - loss: 0.5352 - accuracy: 0.7382 - val_loss: 0.5451 - val_accuracy: 0.7374 - 222ms/epoch - 3ms/step\n",
            "Epoch 93/100\n",
            "81/81 - 0s - loss: 0.5344 - accuracy: 0.7385 - val_loss: 0.5463 - val_accuracy: 0.7370 - 229ms/epoch - 3ms/step\n",
            "Epoch 94/100\n",
            "81/81 - 0s - loss: 0.5343 - accuracy: 0.7388 - val_loss: 0.5463 - val_accuracy: 0.7374 - 194ms/epoch - 2ms/step\n",
            "Epoch 95/100\n",
            "81/81 - 0s - loss: 0.5347 - accuracy: 0.7380 - val_loss: 0.5438 - val_accuracy: 0.7384 - 185ms/epoch - 2ms/step\n",
            "Epoch 96/100\n",
            "81/81 - 0s - loss: 0.5345 - accuracy: 0.7384 - val_loss: 0.5455 - val_accuracy: 0.7314 - 181ms/epoch - 2ms/step\n",
            "Epoch 97/100\n",
            "81/81 - 0s - loss: 0.5343 - accuracy: 0.7387 - val_loss: 0.5451 - val_accuracy: 0.7353 - 222ms/epoch - 3ms/step\n",
            "Epoch 98/100\n",
            "81/81 - 0s - loss: 0.5350 - accuracy: 0.7384 - val_loss: 0.5450 - val_accuracy: 0.7366 - 229ms/epoch - 3ms/step\n",
            "Epoch 99/100\n",
            "81/81 - 0s - loss: 0.5341 - accuracy: 0.7377 - val_loss: 0.5449 - val_accuracy: 0.7370 - 183ms/epoch - 2ms/step\n",
            "Epoch 100/100\n",
            "81/81 - 0s - loss: 0.5343 - accuracy: 0.7365 - val_loss: 0.5455 - val_accuracy: 0.7386 - 187ms/epoch - 2ms/step\n"
          ]
        }
      ],
      "source": [
        "# Train the model\n",
        "history = nn.fit(X_train_scaled, y_train, epochs=100, batch_size=256, validation_split=0.2, verbose=2)"
      ]
    },
    {
      "cell_type": "code",
      "execution_count": 15,
      "metadata": {
        "id": "qzulUU3jzKg4",
        "outputId": "d2eb24a8-c569-4351-c870-ac06609ad197",
        "colab": {
          "base_uri": "https://localhost:8080/"
        }
      },
      "outputs": [
        {
          "output_type": "stream",
          "name": "stdout",
          "text": [
            "268/268 - 0s - loss: 0.5520 - accuracy: 0.7315 - 336ms/epoch - 1ms/step\n",
            "Loss: 0.5520101189613342, Accuracy: 0.7315452098846436\n"
          ]
        }
      ],
      "source": [
        "# Evaluate the model using the test data\n",
        "model_loss, model_accuracy = nn.evaluate(X_test_scaled,y_test,verbose=2)\n",
        "print(f\"Loss: {model_loss}, Accuracy: {model_accuracy}\")"
      ]
    },
    {
      "cell_type": "code",
      "source": [
        "# Plot training & validation accuracy values\n",
        "plt.figure(figsize=(14, 5))\n",
        "\n",
        "plt.subplot(1, 2, 1)\n",
        "plt.plot(history.history['accuracy'], label='Train')\n",
        "plt.plot(history.history['val_accuracy'], label='Validation')\n",
        "plt.title('Model Accuracy')\n",
        "plt.ylabel('Accuracy')\n",
        "plt.xlabel('Epoch')\n",
        "plt.legend(loc='upper left')\n",
        "\n",
        "# Plot training & validation loss values\n",
        "plt.subplot(1, 2, 2)\n",
        "plt.plot(history.history['loss'], label='Train')\n",
        "plt.plot(history.history['val_loss'], label='Validation')\n",
        "plt.title('Model Loss')\n",
        "plt.ylabel('Loss')\n",
        "plt.xlabel('Epoch')\n",
        "plt.legend(loc='upper right')\n",
        "\n",
        "plt.tight_layout()\n",
        "plt.show()"
      ],
      "metadata": {
        "colab": {
          "base_uri": "https://localhost:8080/",
          "height": 507
        },
        "id": "y5bZjmqCOfm_",
        "outputId": "e1fc6d0e-ba89-407c-f7ea-ef899481df6d"
      },
      "execution_count": 16,
      "outputs": [
        {
          "output_type": "display_data",
          "data": {
            "text/plain": [
              "<Figure size 1400x500 with 2 Axes>"
            ],
            "image/png": "[encoded data removed]"
          },
          "metadata": {}
        }
      ]
    },
    {
      "cell_type": "code",
      "execution_count": 17,
      "metadata": {
        "id": "NLgPqm_jzKg4",
        "colab": {
          "base_uri": "https://localhost:8080/"
        },
        "outputId": "8dd81e80-a486-4831-c10c-f0fe232133b6"
      },
      "outputs": [
        {
          "output_type": "stream",
          "name": "stderr",
          "text": [
            "/usr/local/lib/python3.10/dist-packages/keras/src/engine/training.py:3103: UserWarning: You are saving your model as an HDF5 file via `model.save()`. This file format is considered legacy. We recommend using instead the native Keras format, e.g. `model.save('my_model.keras')`.\n",
            "  saving_api.save_model(\n"
          ]
        }
      ],
      "source": [
        "# Export our model to HDF5 file\n",
        "nn.save(\"AlphabetSoupCharity.h5\")"
      ]
    }
  ],
  "metadata": {
    "kernelspec": {
      "display_name": "Python 3",
      "language": "python",
      "name": "python3"
    },
    "language_info": {
      "codemirror_mode": {
        "name": "ipython",
        "version": 3
      },
      "file_extension": ".py",
      "mimetype": "text/x-python",
      "name": "python",
      "nbconvert_exporter": "python",
      "pygments_lexer": "ipython3",
      "version": "3.-1.-1"
    },
    "vscode": {
      "interpreter": {
        "hash": "31f2aee4e71d21fbe5cf8b01ff0e069b9275f58929596ceb00d14d90e3e16cd6"
      }
    },
    "colab": {
      "provenance": []
    }
  },
  "nbformat": 4,
  "nbformat_minor": 0
}